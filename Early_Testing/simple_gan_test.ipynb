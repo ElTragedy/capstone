{
  "cells": [
    {
      "cell_type": "code",
      "execution_count": null,
      "metadata": {
        "colab": {
          "base_uri": "https://localhost:8080/"
        },
        "id": "nZ5xF97GXM7q",
        "outputId": "01b42c80-303e-4d21-8ec6-2f9a1137cfcf"
      },
      "outputs": [
        {
          "name": "stdout",
          "output_type": "stream",
          "text": [
            "Mounted at /content/drive\n",
            "\n",
            " Current path: /content/drive/My Drive\n"
          ]
        }
      ],
      "source": [
        "def mount_drive(dir):\n",
        "  import os\n",
        "  colab = 1\n",
        "  if colab == 1:\n",
        "    from google.colab import drive\n",
        "    drive.mount('/content/drive', force_remount = True)\n",
        "    current_folder = dir\n",
        "    dest_folder = '/content/drive/My Drive/' + current_folder\n",
        "    os.chdir(dest_folder)\n",
        "    print('\\n Current path: ' + os.getcwd())\n",
        "\n",
        "mount_drive('')"
      ]
    },
    {
      "cell_type": "code",
      "execution_count": 4,
      "metadata": {
        "colab": {
          "base_uri": "https://localhost:8080/"
        },
        "id": "JPAlzDyvGxql",
        "outputId": "8708e9cd-44d7-4ebd-d5e3-9a1d23ca693f"
      },
      "outputs": [
        {
          "ename": "SyntaxError",
          "evalue": "invalid syntax (1631732962.py, line 1)",
          "output_type": "error",
          "traceback": [
            "\u001b[1;36m  Cell \u001b[1;32mIn[4], line 1\u001b[1;36m\u001b[0m\n\u001b[1;33m    pip install rdkit selfies\u001b[0m\n\u001b[1;37m        ^\u001b[0m\n\u001b[1;31mSyntaxError\u001b[0m\u001b[1;31m:\u001b[0m invalid syntax\n"
          ]
        }
      ],
      "source": [
        "pip install rdkit selfies\n",
        "pip install tensorflow"
      ]
    },
    {
      "cell_type": "code",
      "execution_count": 1,
      "metadata": {
        "id": "tgI8KpdyE9rT"
      },
      "outputs": [
        {
          "ename": "ModuleNotFoundError",
          "evalue": "No module named 'tensorflow'",
          "output_type": "error",
          "traceback": [
            "\u001b[1;31m---------------------------------------------------------------------------\u001b[0m",
            "\u001b[1;31mModuleNotFoundError\u001b[0m                       Traceback (most recent call last)",
            "Cell \u001b[1;32mIn[1], line 4\u001b[0m\n\u001b[0;32m      2\u001b[0m \u001b[38;5;28;01mimport\u001b[39;00m\u001b[38;5;250m \u001b[39m\u001b[38;5;21;01mpandas\u001b[39;00m\u001b[38;5;250m \u001b[39m\u001b[38;5;28;01mas\u001b[39;00m\u001b[38;5;250m \u001b[39m\u001b[38;5;21;01mpd\u001b[39;00m\n\u001b[0;32m      3\u001b[0m \u001b[38;5;28;01mfrom\u001b[39;00m\u001b[38;5;250m \u001b[39m\u001b[38;5;21;01mrdkit\u001b[39;00m\u001b[38;5;250m \u001b[39m\u001b[38;5;28;01mimport\u001b[39;00m Chem\n\u001b[1;32m----> 4\u001b[0m \u001b[38;5;28;01mimport\u001b[39;00m\u001b[38;5;250m \u001b[39m\u001b[38;5;21;01mtensorflow\u001b[39;00m\u001b[38;5;250m \u001b[39m\u001b[38;5;28;01mas\u001b[39;00m\u001b[38;5;250m \u001b[39m\u001b[38;5;21;01mtf\u001b[39;00m\n\u001b[0;32m      5\u001b[0m \u001b[38;5;28;01mfrom\u001b[39;00m\u001b[38;5;250m \u001b[39m\u001b[38;5;21;01mrdkit\u001b[39;00m\u001b[38;5;21;01m.\u001b[39;00m\u001b[38;5;21;01mChem\u001b[39;00m\u001b[38;5;250m \u001b[39m\u001b[38;5;28;01mimport\u001b[39;00m AllChem\n\u001b[0;32m      6\u001b[0m \u001b[38;5;28;01mimport\u001b[39;00m\u001b[38;5;250m \u001b[39m\u001b[38;5;21;01mmatplotlib\u001b[39;00m\u001b[38;5;21;01m.\u001b[39;00m\u001b[38;5;21;01mpyplot\u001b[39;00m\u001b[38;5;250m \u001b[39m\u001b[38;5;28;01mas\u001b[39;00m\u001b[38;5;250m \u001b[39m\u001b[38;5;21;01mplt\u001b[39;00m\n",
            "\u001b[1;31mModuleNotFoundError\u001b[0m: No module named 'tensorflow'"
          ]
        }
      ],
      "source": [
        "import numpy as np\n",
        "import pandas as pd\n",
        "from rdkit import Chem\n",
        "import tensorflow as tf\n",
        "from rdkit.Chem import AllChem\n",
        "import matplotlib.pyplot as plt\n",
        "import tensorflow.keras as keras\n",
        "from tensorflow.keras import layers, models\n",
        "from sklearn.model_selection import train_test_split"
      ]
    },
    {
      "cell_type": "code",
      "execution_count": null,
      "metadata": {
        "id": "emkrpemUH3HP"
      },
      "outputs": [],
      "source": [
        "qm9 = pd.read_csv(\"qm9.csv\")"
      ]
    },
    {
      "cell_type": "code",
      "execution_count": null,
      "metadata": {
        "colab": {
          "base_uri": "https://localhost:8080/",
          "height": 255
        },
        "id": "0uPynZovFFOC",
        "outputId": "c50a2be0-2066-44a1-cd3c-da7dc3426382"
      },
      "outputs": [
        {
          "data": {
            "application/vnd.google.colaboratory.intrinsic+json": {
              "type": "dataframe",
              "variable_name": "qm9"
            },
            "text/html": [
              "\n",
              "  <div id=\"df-83e0701d-6d21-4f22-bbb4-fccb88434117\" class=\"colab-df-container\">\n",
              "    <div>\n",
              "<style scoped>\n",
              "    .dataframe tbody tr th:only-of-type {\n",
              "        vertical-align: middle;\n",
              "    }\n",
              "\n",
              "    .dataframe tbody tr th {\n",
              "        vertical-align: top;\n",
              "    }\n",
              "\n",
              "    .dataframe thead th {\n",
              "        text-align: right;\n",
              "    }\n",
              "</style>\n",
              "<table border=\"1\" class=\"dataframe\">\n",
              "  <thead>\n",
              "    <tr style=\"text-align: right;\">\n",
              "      <th></th>\n",
              "      <th>smiles</th>\n",
              "      <th>A</th>\n",
              "      <th>B</th>\n",
              "      <th>C</th>\n",
              "      <th>mu</th>\n",
              "      <th>alpha</th>\n",
              "      <th>homo</th>\n",
              "      <th>lumo</th>\n",
              "      <th>gap</th>\n",
              "      <th>r2</th>\n",
              "      <th>...</th>\n",
              "      <th>u0</th>\n",
              "      <th>u298</th>\n",
              "      <th>h298</th>\n",
              "      <th>g298</th>\n",
              "      <th>cv</th>\n",
              "      <th>u0_atom</th>\n",
              "      <th>u298_atom</th>\n",
              "      <th>h298_atom</th>\n",
              "      <th>g298_atom</th>\n",
              "      <th>Morgan_fingerprint</th>\n",
              "    </tr>\n",
              "  </thead>\n",
              "  <tbody>\n",
              "    <tr>\n",
              "      <th>0</th>\n",
              "      <td>C</td>\n",
              "      <td>157.71180</td>\n",
              "      <td>157.709970</td>\n",
              "      <td>157.706990</td>\n",
              "      <td>0.0000</td>\n",
              "      <td>13.21</td>\n",
              "      <td>-0.3877</td>\n",
              "      <td>0.1171</td>\n",
              "      <td>0.5048</td>\n",
              "      <td>35.3641</td>\n",
              "      <td>...</td>\n",
              "      <td>-40.478930</td>\n",
              "      <td>-40.476062</td>\n",
              "      <td>-40.475117</td>\n",
              "      <td>-40.498597</td>\n",
              "      <td>6.469</td>\n",
              "      <td>-395.999595</td>\n",
              "      <td>-398.643290</td>\n",
              "      <td>-401.014647</td>\n",
              "      <td>-372.471772</td>\n",
              "      <td>[0 0 0 ... 0 0 0]</td>\n",
              "    </tr>\n",
              "    <tr>\n",
              "      <th>1</th>\n",
              "      <td>N</td>\n",
              "      <td>293.60975</td>\n",
              "      <td>293.541110</td>\n",
              "      <td>191.393970</td>\n",
              "      <td>1.6256</td>\n",
              "      <td>9.46</td>\n",
              "      <td>-0.2570</td>\n",
              "      <td>0.0829</td>\n",
              "      <td>0.3399</td>\n",
              "      <td>26.1563</td>\n",
              "      <td>...</td>\n",
              "      <td>-56.525887</td>\n",
              "      <td>-56.523026</td>\n",
              "      <td>-56.522082</td>\n",
              "      <td>-56.544961</td>\n",
              "      <td>6.316</td>\n",
              "      <td>-276.861363</td>\n",
              "      <td>-278.620271</td>\n",
              "      <td>-280.399259</td>\n",
              "      <td>-259.338802</td>\n",
              "      <td>[0 0 0 ... 0 0 0]</td>\n",
              "    </tr>\n",
              "    <tr>\n",
              "      <th>2</th>\n",
              "      <td>O</td>\n",
              "      <td>799.58812</td>\n",
              "      <td>437.903860</td>\n",
              "      <td>282.945450</td>\n",
              "      <td>1.8511</td>\n",
              "      <td>6.31</td>\n",
              "      <td>-0.2928</td>\n",
              "      <td>0.0687</td>\n",
              "      <td>0.3615</td>\n",
              "      <td>19.0002</td>\n",
              "      <td>...</td>\n",
              "      <td>-76.404702</td>\n",
              "      <td>-76.401867</td>\n",
              "      <td>-76.400922</td>\n",
              "      <td>-76.422349</td>\n",
              "      <td>6.002</td>\n",
              "      <td>-213.087624</td>\n",
              "      <td>-213.974294</td>\n",
              "      <td>-215.159658</td>\n",
              "      <td>-201.407171</td>\n",
              "      <td>[0 0 0 ... 0 0 0]</td>\n",
              "    </tr>\n",
              "    <tr>\n",
              "      <th>3</th>\n",
              "      <td>C#C</td>\n",
              "      <td>0.00000</td>\n",
              "      <td>35.610036</td>\n",
              "      <td>35.610036</td>\n",
              "      <td>0.0000</td>\n",
              "      <td>16.28</td>\n",
              "      <td>-0.2845</td>\n",
              "      <td>0.0506</td>\n",
              "      <td>0.3351</td>\n",
              "      <td>59.5248</td>\n",
              "      <td>...</td>\n",
              "      <td>-77.308427</td>\n",
              "      <td>-77.305527</td>\n",
              "      <td>-77.304583</td>\n",
              "      <td>-77.327429</td>\n",
              "      <td>8.574</td>\n",
              "      <td>-385.501997</td>\n",
              "      <td>-387.237686</td>\n",
              "      <td>-389.016047</td>\n",
              "      <td>-365.800724</td>\n",
              "      <td>[0 0 0 ... 0 0 0]</td>\n",
              "    </tr>\n",
              "    <tr>\n",
              "      <th>4</th>\n",
              "      <td>C#N</td>\n",
              "      <td>0.00000</td>\n",
              "      <td>44.593883</td>\n",
              "      <td>44.593883</td>\n",
              "      <td>2.8937</td>\n",
              "      <td>12.99</td>\n",
              "      <td>-0.3604</td>\n",
              "      <td>0.0191</td>\n",
              "      <td>0.3796</td>\n",
              "      <td>48.7476</td>\n",
              "      <td>...</td>\n",
              "      <td>-93.411888</td>\n",
              "      <td>-93.409370</td>\n",
              "      <td>-93.408425</td>\n",
              "      <td>-93.431246</td>\n",
              "      <td>6.278</td>\n",
              "      <td>-301.820534</td>\n",
              "      <td>-302.906752</td>\n",
              "      <td>-304.091489</td>\n",
              "      <td>-288.720028</td>\n",
              "      <td>[0 0 0 ... 0 0 0]</td>\n",
              "    </tr>\n",
              "  </tbody>\n",
              "</table>\n",
              "<p>5 rows × 21 columns</p>\n",
              "</div>\n",
              "    <div class=\"colab-df-buttons\">\n",
              "\n",
              "  <div class=\"colab-df-container\">\n",
              "    <button class=\"colab-df-convert\" onclick=\"convertToInteractive('df-83e0701d-6d21-4f22-bbb4-fccb88434117')\"\n",
              "            title=\"Convert this dataframe to an interactive table.\"\n",
              "            style=\"display:none;\">\n",
              "\n",
              "  <svg xmlns=\"http://www.w3.org/2000/svg\" height=\"24px\" viewBox=\"0 -960 960 960\">\n",
              "    <path d=\"M120-120v-720h720v720H120Zm60-500h600v-160H180v160Zm220 220h160v-160H400v160Zm0 220h160v-160H400v160ZM180-400h160v-160H180v160Zm440 0h160v-160H620v160ZM180-180h160v-160H180v160Zm440 0h160v-160H620v160Z\"/>\n",
              "  </svg>\n",
              "    </button>\n",
              "\n",
              "  <style>\n",
              "    .colab-df-container {\n",
              "      display:flex;\n",
              "      gap: 12px;\n",
              "    }\n",
              "\n",
              "    .colab-df-convert {\n",
              "      background-color: #E8F0FE;\n",
              "      border: none;\n",
              "      border-radius: 50%;\n",
              "      cursor: pointer;\n",
              "      display: none;\n",
              "      fill: #1967D2;\n",
              "      height: 32px;\n",
              "      padding: 0 0 0 0;\n",
              "      width: 32px;\n",
              "    }\n",
              "\n",
              "    .colab-df-convert:hover {\n",
              "      background-color: #E2EBFA;\n",
              "      box-shadow: 0px 1px 2px rgba(60, 64, 67, 0.3), 0px 1px 3px 1px rgba(60, 64, 67, 0.15);\n",
              "      fill: #174EA6;\n",
              "    }\n",
              "\n",
              "    .colab-df-buttons div {\n",
              "      margin-bottom: 4px;\n",
              "    }\n",
              "\n",
              "    [theme=dark] .colab-df-convert {\n",
              "      background-color: #3B4455;\n",
              "      fill: #D2E3FC;\n",
              "    }\n",
              "\n",
              "    [theme=dark] .colab-df-convert:hover {\n",
              "      background-color: #434B5C;\n",
              "      box-shadow: 0px 1px 3px 1px rgba(0, 0, 0, 0.15);\n",
              "      filter: drop-shadow(0px 1px 2px rgba(0, 0, 0, 0.3));\n",
              "      fill: #FFFFFF;\n",
              "    }\n",
              "  </style>\n",
              "\n",
              "    <script>\n",
              "      const buttonEl =\n",
              "        document.querySelector('#df-83e0701d-6d21-4f22-bbb4-fccb88434117 button.colab-df-convert');\n",
              "      buttonEl.style.display =\n",
              "        google.colab.kernel.accessAllowed ? 'block' : 'none';\n",
              "\n",
              "      async function convertToInteractive(key) {\n",
              "        const element = document.querySelector('#df-83e0701d-6d21-4f22-bbb4-fccb88434117');\n",
              "        const dataTable =\n",
              "          await google.colab.kernel.invokeFunction('convertToInteractive',\n",
              "                                                    [key], {});\n",
              "        if (!dataTable) return;\n",
              "\n",
              "        const docLinkHtml = 'Like what you see? Visit the ' +\n",
              "          '<a target=\"_blank\" href=https://colab.research.google.com/notebooks/data_table.ipynb>data table notebook</a>'\n",
              "          + ' to learn more about interactive tables.';\n",
              "        element.innerHTML = '';\n",
              "        dataTable['output_type'] = 'display_data';\n",
              "        await google.colab.output.renderOutput(dataTable, element);\n",
              "        const docLink = document.createElement('div');\n",
              "        docLink.innerHTML = docLinkHtml;\n",
              "        element.appendChild(docLink);\n",
              "      }\n",
              "    </script>\n",
              "  </div>\n",
              "\n",
              "\n",
              "<div id=\"df-01725742-656c-4228-95b1-c861efac3be6\">\n",
              "  <button class=\"colab-df-quickchart\" onclick=\"quickchart('df-01725742-656c-4228-95b1-c861efac3be6')\"\n",
              "            title=\"Suggest charts\"\n",
              "            style=\"display:none;\">\n",
              "\n",
              "<svg xmlns=\"http://www.w3.org/2000/svg\" height=\"24px\"viewBox=\"0 0 24 24\"\n",
              "     width=\"24px\">\n",
              "    <g>\n",
              "        <path d=\"M19 3H5c-1.1 0-2 .9-2 2v14c0 1.1.9 2 2 2h14c1.1 0 2-.9 2-2V5c0-1.1-.9-2-2-2zM9 17H7v-7h2v7zm4 0h-2V7h2v10zm4 0h-2v-4h2v4z\"/>\n",
              "    </g>\n",
              "</svg>\n",
              "  </button>\n",
              "\n",
              "<style>\n",
              "  .colab-df-quickchart {\n",
              "      --bg-color: #E8F0FE;\n",
              "      --fill-color: #1967D2;\n",
              "      --hover-bg-color: #E2EBFA;\n",
              "      --hover-fill-color: #174EA6;\n",
              "      --disabled-fill-color: #AAA;\n",
              "      --disabled-bg-color: #DDD;\n",
              "  }\n",
              "\n",
              "  [theme=dark] .colab-df-quickchart {\n",
              "      --bg-color: #3B4455;\n",
              "      --fill-color: #D2E3FC;\n",
              "      --hover-bg-color: #434B5C;\n",
              "      --hover-fill-color: #FFFFFF;\n",
              "      --disabled-bg-color: #3B4455;\n",
              "      --disabled-fill-color: #666;\n",
              "  }\n",
              "\n",
              "  .colab-df-quickchart {\n",
              "    background-color: var(--bg-color);\n",
              "    border: none;\n",
              "    border-radius: 50%;\n",
              "    cursor: pointer;\n",
              "    display: none;\n",
              "    fill: var(--fill-color);\n",
              "    height: 32px;\n",
              "    padding: 0;\n",
              "    width: 32px;\n",
              "  }\n",
              "\n",
              "  .colab-df-quickchart:hover {\n",
              "    background-color: var(--hover-bg-color);\n",
              "    box-shadow: 0 1px 2px rgba(60, 64, 67, 0.3), 0 1px 3px 1px rgba(60, 64, 67, 0.15);\n",
              "    fill: var(--button-hover-fill-color);\n",
              "  }\n",
              "\n",
              "  .colab-df-quickchart-complete:disabled,\n",
              "  .colab-df-quickchart-complete:disabled:hover {\n",
              "    background-color: var(--disabled-bg-color);\n",
              "    fill: var(--disabled-fill-color);\n",
              "    box-shadow: none;\n",
              "  }\n",
              "\n",
              "  .colab-df-spinner {\n",
              "    border: 2px solid var(--fill-color);\n",
              "    border-color: transparent;\n",
              "    border-bottom-color: var(--fill-color);\n",
              "    animation:\n",
              "      spin 1s steps(1) infinite;\n",
              "  }\n",
              "\n",
              "  @keyframes spin {\n",
              "    0% {\n",
              "      border-color: transparent;\n",
              "      border-bottom-color: var(--fill-color);\n",
              "      border-left-color: var(--fill-color);\n",
              "    }\n",
              "    20% {\n",
              "      border-color: transparent;\n",
              "      border-left-color: var(--fill-color);\n",
              "      border-top-color: var(--fill-color);\n",
              "    }\n",
              "    30% {\n",
              "      border-color: transparent;\n",
              "      border-left-color: var(--fill-color);\n",
              "      border-top-color: var(--fill-color);\n",
              "      border-right-color: var(--fill-color);\n",
              "    }\n",
              "    40% {\n",
              "      border-color: transparent;\n",
              "      border-right-color: var(--fill-color);\n",
              "      border-top-color: var(--fill-color);\n",
              "    }\n",
              "    60% {\n",
              "      border-color: transparent;\n",
              "      border-right-color: var(--fill-color);\n",
              "    }\n",
              "    80% {\n",
              "      border-color: transparent;\n",
              "      border-right-color: var(--fill-color);\n",
              "      border-bottom-color: var(--fill-color);\n",
              "    }\n",
              "    90% {\n",
              "      border-color: transparent;\n",
              "      border-bottom-color: var(--fill-color);\n",
              "    }\n",
              "  }\n",
              "</style>\n",
              "\n",
              "  <script>\n",
              "    async function quickchart(key) {\n",
              "      const quickchartButtonEl =\n",
              "        document.querySelector('#' + key + ' button');\n",
              "      quickchartButtonEl.disabled = true;  // To prevent multiple clicks.\n",
              "      quickchartButtonEl.classList.add('colab-df-spinner');\n",
              "      try {\n",
              "        const charts = await google.colab.kernel.invokeFunction(\n",
              "            'suggestCharts', [key], {});\n",
              "      } catch (error) {\n",
              "        console.error('Error during call to suggestCharts:', error);\n",
              "      }\n",
              "      quickchartButtonEl.classList.remove('colab-df-spinner');\n",
              "      quickchartButtonEl.classList.add('colab-df-quickchart-complete');\n",
              "    }\n",
              "    (() => {\n",
              "      let quickchartButtonEl =\n",
              "        document.querySelector('#df-01725742-656c-4228-95b1-c861efac3be6 button');\n",
              "      quickchartButtonEl.style.display =\n",
              "        google.colab.kernel.accessAllowed ? 'block' : 'none';\n",
              "    })();\n",
              "  </script>\n",
              "</div>\n",
              "\n",
              "    </div>\n",
              "  </div>\n"
            ],
            "text/plain": [
              "  smiles          A           B           C      mu  alpha    homo    lumo  \\\n",
              "0      C  157.71180  157.709970  157.706990  0.0000  13.21 -0.3877  0.1171   \n",
              "1      N  293.60975  293.541110  191.393970  1.6256   9.46 -0.2570  0.0829   \n",
              "2      O  799.58812  437.903860  282.945450  1.8511   6.31 -0.2928  0.0687   \n",
              "3    C#C    0.00000   35.610036   35.610036  0.0000  16.28 -0.2845  0.0506   \n",
              "4    C#N    0.00000   44.593883   44.593883  2.8937  12.99 -0.3604  0.0191   \n",
              "\n",
              "      gap       r2  ...         u0       u298       h298       g298     cv  \\\n",
              "0  0.5048  35.3641  ... -40.478930 -40.476062 -40.475117 -40.498597  6.469   \n",
              "1  0.3399  26.1563  ... -56.525887 -56.523026 -56.522082 -56.544961  6.316   \n",
              "2  0.3615  19.0002  ... -76.404702 -76.401867 -76.400922 -76.422349  6.002   \n",
              "3  0.3351  59.5248  ... -77.308427 -77.305527 -77.304583 -77.327429  8.574   \n",
              "4  0.3796  48.7476  ... -93.411888 -93.409370 -93.408425 -93.431246  6.278   \n",
              "\n",
              "      u0_atom   u298_atom   h298_atom   g298_atom  Morgan_fingerprint  \n",
              "0 -395.999595 -398.643290 -401.014647 -372.471772   [0 0 0 ... 0 0 0]  \n",
              "1 -276.861363 -278.620271 -280.399259 -259.338802   [0 0 0 ... 0 0 0]  \n",
              "2 -213.087624 -213.974294 -215.159658 -201.407171   [0 0 0 ... 0 0 0]  \n",
              "3 -385.501997 -387.237686 -389.016047 -365.800724   [0 0 0 ... 0 0 0]  \n",
              "4 -301.820534 -302.906752 -304.091489 -288.720028   [0 0 0 ... 0 0 0]  \n",
              "\n",
              "[5 rows x 21 columns]"
            ]
          },
          "execution_count": 5,
          "metadata": {},
          "output_type": "execute_result"
        }
      ],
      "source": [
        "qm9 = qm9.drop(columns=\"mol_id\")\n",
        "qm9.head()"
      ]
    },
    {
      "cell_type": "code",
      "execution_count": null,
      "metadata": {
        "colab": {
          "base_uri": "https://localhost:8080/"
        },
        "id": "Qx7DbplRMLGb",
        "outputId": "7adf231f-1d84-4c18-933b-4087308bf6d4"
      },
      "outputs": [
        {
          "name": "stderr",
          "output_type": "stream",
          "text": [
            "<ipython-input-6-67d7935c0338>:1: DeprecationWarning: string or file could not be read to its end due to unmatched data; this will raise a ValueError in the future.\n",
            "  X_fingerprints = np.vstack(qm9[\"Morgan_fingerprint\"].apply(lambda x: np.fromstring(x, sep=' ')).values)\n"
          ]
        }
      ],
      "source": [
        "X_fingerprints = np.vstack(qm9[\"Morgan_fingerprint\"].apply(lambda x: np.fromstring(x, sep=' ')).values)\n",
        "X_properties = qm9.drop(columns=[\"smiles\", \"Morgan_fingerprint\"]).values\n",
        "\n",
        "X = np.hstack([X_fingerprints, X_properties])"
      ]
    },
    {
      "cell_type": "code",
      "execution_count": null,
      "metadata": {
        "id": "KcNK7Aq_M9OG"
      },
      "outputs": [],
      "source": [
        "X_train, X_test = train_test_split(X, test_size=0.2, random_state=42)"
      ]
    },
    {
      "cell_type": "code",
      "execution_count": null,
      "metadata": {
        "colab": {
          "base_uri": "https://localhost:8080/"
        },
        "id": "CZp_ZIeiN4s4",
        "outputId": "3c6cbce0-3584-4a58-af76-837aafb3db05"
      },
      "outputs": [
        {
          "name": "stdout",
          "output_type": "stream",
          "text": [
            "Train shape: (107108, 19) Test shape: (26777, 19)\n"
          ]
        }
      ],
      "source": [
        "print(\"Train shape:\", X_train.shape, \"Test shape:\", X_test.shape)"
      ]
    },
    {
      "cell_type": "code",
      "execution_count": null,
      "metadata": {
        "id": "Q__2mGusXaJK"
      },
      "outputs": [],
      "source": [
        "batch_s = 128\n",
        "\n",
        "dat = tf.data.Dataset.from_tensor_slices(X_train)\n",
        "dat = dat.shuffle(1000)\n",
        "dat = dat.batch(batch_s, drop_remainder=True).prefetch(1)"
      ]
    },
    {
      "cell_type": "code",
      "execution_count": null,
      "metadata": {
        "colab": {
          "base_uri": "https://localhost:8080/",
          "height": 280
        },
        "id": "B3M2S7EHQvxQ",
        "outputId": "1e835866-7a5f-44a7-a87b-36b2198e2b75"
      },
      "outputs": [
        {
          "name": "stderr",
          "output_type": "stream",
          "text": [
            "/usr/local/lib/python3.11/dist-packages/keras/src/layers/core/dense.py:87: UserWarning: Do not pass an `input_shape`/`input_dim` argument to a layer. When using Sequential models, prefer using an `Input(shape)` object as the first layer in the model instead.\n",
            "  super().__init__(activity_regularizer=activity_regularizer, **kwargs)\n"
          ]
        },
        {
          "data": {
            "text/html": [
              "<pre style=\"white-space:pre;overflow-x:auto;line-height:normal;font-family:Menlo,'DejaVu Sans Mono',consolas,'Courier New',monospace\"><span style=\"font-weight: bold\">Model: \"sequential\"</span>\n",
              "</pre>\n"
            ],
            "text/plain": [
              "\u001b[1mModel: \"sequential\"\u001b[0m\n"
            ]
          },
          "metadata": {},
          "output_type": "display_data"
        },
        {
          "data": {
            "text/html": [
              "<pre style=\"white-space:pre;overflow-x:auto;line-height:normal;font-family:Menlo,'DejaVu Sans Mono',consolas,'Courier New',monospace\">┏━━━━━━━━━━━━━━━━━━━━━━━━━━━━━━━━━━━━━━┳━━━━━━━━━━━━━━━━━━━━━━━━━━━━━┳━━━━━━━━━━━━━━━━━┓\n",
              "┃<span style=\"font-weight: bold\"> Layer (type)                         </span>┃<span style=\"font-weight: bold\"> Output Shape                </span>┃<span style=\"font-weight: bold\">         Param # </span>┃\n",
              "┡━━━━━━━━━━━━━━━━━━━━━━━━━━━━━━━━━━━━━━╇━━━━━━━━━━━━━━━━━━━━━━━━━━━━━╇━━━━━━━━━━━━━━━━━┩\n",
              "│ dense (<span style=\"color: #0087ff; text-decoration-color: #0087ff\">Dense</span>)                        │ (<span style=\"color: #00d7ff; text-decoration-color: #00d7ff\">None</span>, <span style=\"color: #00af00; text-decoration-color: #00af00\">128</span>)                 │          <span style=\"color: #00af00; text-decoration-color: #00af00\">12,928</span> │\n",
              "├──────────────────────────────────────┼─────────────────────────────┼─────────────────┤\n",
              "│ dense_1 (<span style=\"color: #0087ff; text-decoration-color: #0087ff\">Dense</span>)                      │ (<span style=\"color: #00d7ff; text-decoration-color: #00d7ff\">None</span>, <span style=\"color: #00af00; text-decoration-color: #00af00\">256</span>)                 │          <span style=\"color: #00af00; text-decoration-color: #00af00\">33,024</span> │\n",
              "├──────────────────────────────────────┼─────────────────────────────┼─────────────────┤\n",
              "│ dense_2 (<span style=\"color: #0087ff; text-decoration-color: #0087ff\">Dense</span>)                      │ (<span style=\"color: #00d7ff; text-decoration-color: #00d7ff\">None</span>, <span style=\"color: #00af00; text-decoration-color: #00af00\">19</span>)                  │           <span style=\"color: #00af00; text-decoration-color: #00af00\">4,883</span> │\n",
              "└──────────────────────────────────────┴─────────────────────────────┴─────────────────┘\n",
              "</pre>\n"
            ],
            "text/plain": [
              "┏━━━━━━━━━━━━━━━━━━━━━━━━━━━━━━━━━━━━━━┳━━━━━━━━━━━━━━━━━━━━━━━━━━━━━┳━━━━━━━━━━━━━━━━━┓\n",
              "┃\u001b[1m \u001b[0m\u001b[1mLayer (type)                        \u001b[0m\u001b[1m \u001b[0m┃\u001b[1m \u001b[0m\u001b[1mOutput Shape               \u001b[0m\u001b[1m \u001b[0m┃\u001b[1m \u001b[0m\u001b[1m        Param #\u001b[0m\u001b[1m \u001b[0m┃\n",
              "┡━━━━━━━━━━━━━━━━━━━━━━━━━━━━━━━━━━━━━━╇━━━━━━━━━━━━━━━━━━━━━━━━━━━━━╇━━━━━━━━━━━━━━━━━┩\n",
              "│ dense (\u001b[38;5;33mDense\u001b[0m)                        │ (\u001b[38;5;45mNone\u001b[0m, \u001b[38;5;34m128\u001b[0m)                 │          \u001b[38;5;34m12,928\u001b[0m │\n",
              "├──────────────────────────────────────┼─────────────────────────────┼─────────────────┤\n",
              "│ dense_1 (\u001b[38;5;33mDense\u001b[0m)                      │ (\u001b[38;5;45mNone\u001b[0m, \u001b[38;5;34m256\u001b[0m)                 │          \u001b[38;5;34m33,024\u001b[0m │\n",
              "├──────────────────────────────────────┼─────────────────────────────┼─────────────────┤\n",
              "│ dense_2 (\u001b[38;5;33mDense\u001b[0m)                      │ (\u001b[38;5;45mNone\u001b[0m, \u001b[38;5;34m19\u001b[0m)                  │           \u001b[38;5;34m4,883\u001b[0m │\n",
              "└──────────────────────────────────────┴─────────────────────────────┴─────────────────┘\n"
            ]
          },
          "metadata": {},
          "output_type": "display_data"
        },
        {
          "data": {
            "text/html": [
              "<pre style=\"white-space:pre;overflow-x:auto;line-height:normal;font-family:Menlo,'DejaVu Sans Mono',consolas,'Courier New',monospace\"><span style=\"font-weight: bold\"> Total params: </span><span style=\"color: #00af00; text-decoration-color: #00af00\">50,835</span> (198.57 KB)\n",
              "</pre>\n"
            ],
            "text/plain": [
              "\u001b[1m Total params: \u001b[0m\u001b[38;5;34m50,835\u001b[0m (198.57 KB)\n"
            ]
          },
          "metadata": {},
          "output_type": "display_data"
        },
        {
          "data": {
            "text/html": [
              "<pre style=\"white-space:pre;overflow-x:auto;line-height:normal;font-family:Menlo,'DejaVu Sans Mono',consolas,'Courier New',monospace\"><span style=\"font-weight: bold\"> Trainable params: </span><span style=\"color: #00af00; text-decoration-color: #00af00\">50,835</span> (198.57 KB)\n",
              "</pre>\n"
            ],
            "text/plain": [
              "\u001b[1m Trainable params: \u001b[0m\u001b[38;5;34m50,835\u001b[0m (198.57 KB)\n"
            ]
          },
          "metadata": {},
          "output_type": "display_data"
        },
        {
          "data": {
            "text/html": [
              "<pre style=\"white-space:pre;overflow-x:auto;line-height:normal;font-family:Menlo,'DejaVu Sans Mono',consolas,'Courier New',monospace\"><span style=\"font-weight: bold\"> Non-trainable params: </span><span style=\"color: #00af00; text-decoration-color: #00af00\">0</span> (0.00 B)\n",
              "</pre>\n"
            ],
            "text/plain": [
              "\u001b[1m Non-trainable params: \u001b[0m\u001b[38;5;34m0\u001b[0m (0.00 B)\n"
            ]
          },
          "metadata": {},
          "output_type": "display_data"
        }
      ],
      "source": [
        "latent_dim = 100\n",
        "input_dim = X_train.shape[1]\n",
        "\n",
        "generator = models.Sequential([\n",
        "    layers.Dense(128, activation=\"relu\", input_shape =(latent_dim, )),\n",
        "    layers.Dense(256, activation = \"relu\"),\n",
        "    layers.Dense(input_dim, activation=\"tanh\")\n",
        "])\n",
        "\n",
        "generator.summary()"
      ]
    },
    {
      "cell_type": "code",
      "execution_count": null,
      "metadata": {
        "colab": {
          "base_uri": "https://localhost:8080/",
          "height": 273
        },
        "id": "VqWdcg38VSva",
        "outputId": "7f6cfaab-8edf-4706-dbb9-49268db8af77"
      },
      "outputs": [
        {
          "data": {
            "text/html": [
              "<pre style=\"white-space:pre;overflow-x:auto;line-height:normal;font-family:Menlo,'DejaVu Sans Mono',consolas,'Courier New',monospace\"><span style=\"font-weight: bold\">Model: \"sequential_1\"</span>\n",
              "</pre>\n"
            ],
            "text/plain": [
              "\u001b[1mModel: \"sequential_1\"\u001b[0m\n"
            ]
          },
          "metadata": {},
          "output_type": "display_data"
        },
        {
          "data": {
            "text/html": [
              "<pre style=\"white-space:pre;overflow-x:auto;line-height:normal;font-family:Menlo,'DejaVu Sans Mono',consolas,'Courier New',monospace\">┏━━━━━━━━━━━━━━━━━━━━━━━━━━━━━━━━━━━━━━┳━━━━━━━━━━━━━━━━━━━━━━━━━━━━━┳━━━━━━━━━━━━━━━━━┓\n",
              "┃<span style=\"font-weight: bold\"> Layer (type)                         </span>┃<span style=\"font-weight: bold\"> Output Shape                </span>┃<span style=\"font-weight: bold\">         Param # </span>┃\n",
              "┡━━━━━━━━━━━━━━━━━━━━━━━━━━━━━━━━━━━━━━╇━━━━━━━━━━━━━━━━━━━━━━━━━━━━━╇━━━━━━━━━━━━━━━━━┩\n",
              "│ dense_3 (<span style=\"color: #0087ff; text-decoration-color: #0087ff\">Dense</span>)                      │ (<span style=\"color: #00d7ff; text-decoration-color: #00d7ff\">None</span>, <span style=\"color: #00af00; text-decoration-color: #00af00\">256</span>)                 │           <span style=\"color: #00af00; text-decoration-color: #00af00\">5,120</span> │\n",
              "├──────────────────────────────────────┼─────────────────────────────┼─────────────────┤\n",
              "│ dense_4 (<span style=\"color: #0087ff; text-decoration-color: #0087ff\">Dense</span>)                      │ (<span style=\"color: #00d7ff; text-decoration-color: #00d7ff\">None</span>, <span style=\"color: #00af00; text-decoration-color: #00af00\">128</span>)                 │          <span style=\"color: #00af00; text-decoration-color: #00af00\">32,896</span> │\n",
              "├──────────────────────────────────────┼─────────────────────────────┼─────────────────┤\n",
              "│ batch_normalization                  │ (<span style=\"color: #00d7ff; text-decoration-color: #00d7ff\">None</span>, <span style=\"color: #00af00; text-decoration-color: #00af00\">128</span>)                 │             <span style=\"color: #00af00; text-decoration-color: #00af00\">512</span> │\n",
              "│ (<span style=\"color: #0087ff; text-decoration-color: #0087ff\">BatchNormalization</span>)                 │                             │                 │\n",
              "├──────────────────────────────────────┼─────────────────────────────┼─────────────────┤\n",
              "│ dense_5 (<span style=\"color: #0087ff; text-decoration-color: #0087ff\">Dense</span>)                      │ (<span style=\"color: #00d7ff; text-decoration-color: #00d7ff\">None</span>, <span style=\"color: #00af00; text-decoration-color: #00af00\">1</span>)                   │             <span style=\"color: #00af00; text-decoration-color: #00af00\">129</span> │\n",
              "└──────────────────────────────────────┴─────────────────────────────┴─────────────────┘\n",
              "</pre>\n"
            ],
            "text/plain": [
              "┏━━━━━━━━━━━━━━━━━━━━━━━━━━━━━━━━━━━━━━┳━━━━━━━━━━━━━━━━━━━━━━━━━━━━━┳━━━━━━━━━━━━━━━━━┓\n",
              "┃\u001b[1m \u001b[0m\u001b[1mLayer (type)                        \u001b[0m\u001b[1m \u001b[0m┃\u001b[1m \u001b[0m\u001b[1mOutput Shape               \u001b[0m\u001b[1m \u001b[0m┃\u001b[1m \u001b[0m\u001b[1m        Param #\u001b[0m\u001b[1m \u001b[0m┃\n",
              "┡━━━━━━━━━━━━━━━━━━━━━━━━━━━━━━━━━━━━━━╇━━━━━━━━━━━━━━━━━━━━━━━━━━━━━╇━━━━━━━━━━━━━━━━━┩\n",
              "│ dense_3 (\u001b[38;5;33mDense\u001b[0m)                      │ (\u001b[38;5;45mNone\u001b[0m, \u001b[38;5;34m256\u001b[0m)                 │           \u001b[38;5;34m5,120\u001b[0m │\n",
              "├──────────────────────────────────────┼─────────────────────────────┼─────────────────┤\n",
              "│ dense_4 (\u001b[38;5;33mDense\u001b[0m)                      │ (\u001b[38;5;45mNone\u001b[0m, \u001b[38;5;34m128\u001b[0m)                 │          \u001b[38;5;34m32,896\u001b[0m │\n",
              "├──────────────────────────────────────┼─────────────────────────────┼─────────────────┤\n",
              "│ batch_normalization                  │ (\u001b[38;5;45mNone\u001b[0m, \u001b[38;5;34m128\u001b[0m)                 │             \u001b[38;5;34m512\u001b[0m │\n",
              "│ (\u001b[38;5;33mBatchNormalization\u001b[0m)                 │                             │                 │\n",
              "├──────────────────────────────────────┼─────────────────────────────┼─────────────────┤\n",
              "│ dense_5 (\u001b[38;5;33mDense\u001b[0m)                      │ (\u001b[38;5;45mNone\u001b[0m, \u001b[38;5;34m1\u001b[0m)                   │             \u001b[38;5;34m129\u001b[0m │\n",
              "└──────────────────────────────────────┴─────────────────────────────┴─────────────────┘\n"
            ]
          },
          "metadata": {},
          "output_type": "display_data"
        },
        {
          "data": {
            "text/html": [
              "<pre style=\"white-space:pre;overflow-x:auto;line-height:normal;font-family:Menlo,'DejaVu Sans Mono',consolas,'Courier New',monospace\"><span style=\"font-weight: bold\"> Total params: </span><span style=\"color: #00af00; text-decoration-color: #00af00\">38,657</span> (151.00 KB)\n",
              "</pre>\n"
            ],
            "text/plain": [
              "\u001b[1m Total params: \u001b[0m\u001b[38;5;34m38,657\u001b[0m (151.00 KB)\n"
            ]
          },
          "metadata": {},
          "output_type": "display_data"
        },
        {
          "data": {
            "text/html": [
              "<pre style=\"white-space:pre;overflow-x:auto;line-height:normal;font-family:Menlo,'DejaVu Sans Mono',consolas,'Courier New',monospace\"><span style=\"font-weight: bold\"> Trainable params: </span><span style=\"color: #00af00; text-decoration-color: #00af00\">38,401</span> (150.00 KB)\n",
              "</pre>\n"
            ],
            "text/plain": [
              "\u001b[1m Trainable params: \u001b[0m\u001b[38;5;34m38,401\u001b[0m (150.00 KB)\n"
            ]
          },
          "metadata": {},
          "output_type": "display_data"
        },
        {
          "data": {
            "text/html": [
              "<pre style=\"white-space:pre;overflow-x:auto;line-height:normal;font-family:Menlo,'DejaVu Sans Mono',consolas,'Courier New',monospace\"><span style=\"font-weight: bold\"> Non-trainable params: </span><span style=\"color: #00af00; text-decoration-color: #00af00\">256</span> (1.00 KB)\n",
              "</pre>\n"
            ],
            "text/plain": [
              "\u001b[1m Non-trainable params: \u001b[0m\u001b[38;5;34m256\u001b[0m (1.00 KB)\n"
            ]
          },
          "metadata": {},
          "output_type": "display_data"
        }
      ],
      "source": [
        "discrimanator = models.Sequential([\n",
        "    layers.Dense(256, activation = \"leaky_relu\", input_shape=(input_dim,)),\n",
        "    layers.Dense(128, activation = \"leaky_relu\"),\n",
        "    layers.BatchNormalization(),\n",
        "    layers.Dense(1, activation = \"sigmoid\")\n",
        "])\n",
        "\n",
        "discrimanator.summary()"
      ]
    },
    {
      "cell_type": "code",
      "execution_count": null,
      "metadata": {
        "id": "R5FmXAGeuowm"
      },
      "outputs": [],
      "source": [
        "gan2 = keras.models.Sequential([generator, discrimanator])"
      ]
    },
    {
      "cell_type": "code",
      "execution_count": null,
      "metadata": {
        "id": "kCA1ea3svHmM"
      },
      "outputs": [],
      "source": [
        "optimizer_d = keras.optimizers.Adam(learning_rate=0.0002, beta_1=0.5)\n",
        "optimizer_g = keras.optimizers.Adam(learning_rate=0.0002, beta_1=0.5)\n",
        "\n",
        "discrimanator.trainable = True\n",
        "\n",
        "discrimanator.compile(loss='binary_crossentropy', optimizer=optimizer_d, metrics=['accuracy'])\n",
        "\n",
        "gan2 = keras.models.Sequential([generator, discrimanator])\n",
        "gan2.compile(loss=\"binary_crossentropy\", optimizer=optimizer_g)"
      ]
    },
    {
      "cell_type": "code",
      "execution_count": null,
      "metadata": {
        "colab": {
          "base_uri": "https://localhost:8080/",
          "height": 193
        },
        "id": "E1lHr2s3vN3F",
        "outputId": "d2feee2e-31cf-4082-9491-01a461e8fb46"
      },
      "outputs": [
        {
          "data": {
            "text/html": [
              "<pre style=\"white-space:pre;overflow-x:auto;line-height:normal;font-family:Menlo,'DejaVu Sans Mono',consolas,'Courier New',monospace\"><span style=\"font-weight: bold\">Model: \"sequential_3\"</span>\n",
              "</pre>\n"
            ],
            "text/plain": [
              "\u001b[1mModel: \"sequential_3\"\u001b[0m\n"
            ]
          },
          "metadata": {},
          "output_type": "display_data"
        },
        {
          "data": {
            "text/html": [
              "<pre style=\"white-space:pre;overflow-x:auto;line-height:normal;font-family:Menlo,'DejaVu Sans Mono',consolas,'Courier New',monospace\">┏━━━━━━━━━━━━━━━━━━━━━━━━━━━━━━━━━━━━━━┳━━━━━━━━━━━━━━━━━━━━━━━━━━━━━┳━━━━━━━━━━━━━━━━━┓\n",
              "┃<span style=\"font-weight: bold\"> Layer (type)                         </span>┃<span style=\"font-weight: bold\"> Output Shape                </span>┃<span style=\"font-weight: bold\">         Param # </span>┃\n",
              "┡━━━━━━━━━━━━━━━━━━━━━━━━━━━━━━━━━━━━━━╇━━━━━━━━━━━━━━━━━━━━━━━━━━━━━╇━━━━━━━━━━━━━━━━━┩\n",
              "│ sequential (<span style=\"color: #0087ff; text-decoration-color: #0087ff\">Sequential</span>)              │ (<span style=\"color: #00d7ff; text-decoration-color: #00d7ff\">None</span>, <span style=\"color: #00af00; text-decoration-color: #00af00\">19</span>)                  │          <span style=\"color: #00af00; text-decoration-color: #00af00\">50,835</span> │\n",
              "├──────────────────────────────────────┼─────────────────────────────┼─────────────────┤\n",
              "│ sequential_1 (<span style=\"color: #0087ff; text-decoration-color: #0087ff\">Sequential</span>)            │ (<span style=\"color: #00d7ff; text-decoration-color: #00d7ff\">None</span>, <span style=\"color: #00af00; text-decoration-color: #00af00\">1</span>)                   │          <span style=\"color: #00af00; text-decoration-color: #00af00\">38,657</span> │\n",
              "└──────────────────────────────────────┴─────────────────────────────┴─────────────────┘\n",
              "</pre>\n"
            ],
            "text/plain": [
              "┏━━━━━━━━━━━━━━━━━━━━━━━━━━━━━━━━━━━━━━┳━━━━━━━━━━━━━━━━━━━━━━━━━━━━━┳━━━━━━━━━━━━━━━━━┓\n",
              "┃\u001b[1m \u001b[0m\u001b[1mLayer (type)                        \u001b[0m\u001b[1m \u001b[0m┃\u001b[1m \u001b[0m\u001b[1mOutput Shape               \u001b[0m\u001b[1m \u001b[0m┃\u001b[1m \u001b[0m\u001b[1m        Param #\u001b[0m\u001b[1m \u001b[0m┃\n",
              "┡━━━━━━━━━━━━━━━━━━━━━━━━━━━━━━━━━━━━━━╇━━━━━━━━━━━━━━━━━━━━━━━━━━━━━╇━━━━━━━━━━━━━━━━━┩\n",
              "│ sequential (\u001b[38;5;33mSequential\u001b[0m)              │ (\u001b[38;5;45mNone\u001b[0m, \u001b[38;5;34m19\u001b[0m)                  │          \u001b[38;5;34m50,835\u001b[0m │\n",
              "├──────────────────────────────────────┼─────────────────────────────┼─────────────────┤\n",
              "│ sequential_1 (\u001b[38;5;33mSequential\u001b[0m)            │ (\u001b[38;5;45mNone\u001b[0m, \u001b[38;5;34m1\u001b[0m)                   │          \u001b[38;5;34m38,657\u001b[0m │\n",
              "└──────────────────────────────────────┴─────────────────────────────┴─────────────────┘\n"
            ]
          },
          "metadata": {},
          "output_type": "display_data"
        },
        {
          "data": {
            "text/html": [
              "<pre style=\"white-space:pre;overflow-x:auto;line-height:normal;font-family:Menlo,'DejaVu Sans Mono',consolas,'Courier New',monospace\"><span style=\"font-weight: bold\"> Total params: </span><span style=\"color: #00af00; text-decoration-color: #00af00\">89,492</span> (349.58 KB)\n",
              "</pre>\n"
            ],
            "text/plain": [
              "\u001b[1m Total params: \u001b[0m\u001b[38;5;34m89,492\u001b[0m (349.58 KB)\n"
            ]
          },
          "metadata": {},
          "output_type": "display_data"
        },
        {
          "data": {
            "text/html": [
              "<pre style=\"white-space:pre;overflow-x:auto;line-height:normal;font-family:Menlo,'DejaVu Sans Mono',consolas,'Courier New',monospace\"><span style=\"font-weight: bold\"> Trainable params: </span><span style=\"color: #00af00; text-decoration-color: #00af00\">89,236</span> (348.58 KB)\n",
              "</pre>\n"
            ],
            "text/plain": [
              "\u001b[1m Trainable params: \u001b[0m\u001b[38;5;34m89,236\u001b[0m (348.58 KB)\n"
            ]
          },
          "metadata": {},
          "output_type": "display_data"
        },
        {
          "data": {
            "text/html": [
              "<pre style=\"white-space:pre;overflow-x:auto;line-height:normal;font-family:Menlo,'DejaVu Sans Mono',consolas,'Courier New',monospace\"><span style=\"font-weight: bold\"> Non-trainable params: </span><span style=\"color: #00af00; text-decoration-color: #00af00\">256</span> (1.00 KB)\n",
              "</pre>\n"
            ],
            "text/plain": [
              "\u001b[1m Non-trainable params: \u001b[0m\u001b[38;5;34m256\u001b[0m (1.00 KB)\n"
            ]
          },
          "metadata": {},
          "output_type": "display_data"
        }
      ],
      "source": [
        "gan2.summary()"
      ]
    },
    {
      "cell_type": "code",
      "execution_count": null,
      "metadata": {
        "id": "3Hcz7zXqvj9R"
      },
      "outputs": [],
      "source": [
        "genarator, discrimanator = gan2.layers\n",
        "epochs = 100"
      ]
    },
    {
      "cell_type": "code",
      "execution_count": null,
      "metadata": {
        "id": "3DBKjoNF_bWv"
      },
      "outputs": [],
      "source": [
        "tf.config.run_functions_eagerly(True)"
      ]
    },
    {
      "cell_type": "code",
      "execution_count": null,
      "metadata": {
        "colab": {
          "base_uri": "https://localhost:8080/"
        },
        "collapsed": true,
        "id": "2wew6A3bvZAN",
        "outputId": "6de72758-5221-4d3f-d483-dbeb9c21ff72"
      },
      "outputs": [
        {
          "name": "stdout",
          "output_type": "stream",
          "text": [
            "Epoch 0 | Loss D: 0.8003 | Loss G: 0.8815\n",
            "Epoch 1 | Loss D: 0.7873 | Loss G: 0.8323\n",
            "Epoch 2 | Loss D: 0.7706 | Loss G: 0.8061\n",
            "Epoch 3 | Loss D: 0.7582 | Loss G: 0.7870\n",
            "Epoch 4 | Loss D: 0.7487 | Loss G: 0.7742\n",
            "Epoch 5 | Loss D: 0.7419 | Loss G: 0.7638\n",
            "Epoch 6 | Loss D: 0.7373 | Loss G: 0.7560\n",
            "Epoch 7 | Loss D: 0.7339 | Loss G: 0.7493\n",
            "Epoch 8 | Loss D: 0.7307 | Loss G: 0.7442\n",
            "Epoch 9 | Loss D: 0.7280 | Loss G: 0.7401\n",
            "Epoch 10 | Loss D: 0.7258 | Loss G: 0.7361\n",
            "Epoch 11 | Loss D: 0.7240 | Loss G: 0.7334\n",
            "Epoch 12 | Loss D: 0.7223 | Loss G: 0.7298\n",
            "Epoch 13 | Loss D: 0.7208 | Loss G: 0.7267\n",
            "Epoch 14 | Loss D: 0.7195 | Loss G: 0.7241\n",
            "Epoch 15 | Loss D: 0.7183 | Loss G: 0.7216\n",
            "Epoch 16 | Loss D: 0.7172 | Loss G: 0.7194\n",
            "Epoch 17 | Loss D: 0.7162 | Loss G: 0.7171\n",
            "Epoch 18 | Loss D: 0.7153 | Loss G: 0.7151\n",
            "Epoch 19 | Loss D: 0.7145 | Loss G: 0.7131\n",
            "Epoch 20 | Loss D: 0.7138 | Loss G: 0.7112\n",
            "Epoch 21 | Loss D: 0.7132 | Loss G: 0.7095\n",
            "Epoch 22 | Loss D: 0.7126 | Loss G: 0.7078\n",
            "Epoch 23 | Loss D: 0.7120 | Loss G: 0.7062\n",
            "Epoch 24 | Loss D: 0.7115 | Loss G: 0.7046\n",
            "Epoch 25 | Loss D: 0.7110 | Loss G: 0.7032\n",
            "Epoch 26 | Loss D: 0.7106 | Loss G: 0.7017\n",
            "Epoch 27 | Loss D: 0.7101 | Loss G: 0.7003\n",
            "Epoch 28 | Loss D: 0.7097 | Loss G: 0.6989\n",
            "Epoch 29 | Loss D: 0.7093 | Loss G: 0.6976\n",
            "Epoch 30 | Loss D: 0.7090 | Loss G: 0.6963\n",
            "Epoch 31 | Loss D: 0.7087 | Loss G: 0.6950\n",
            "Epoch 32 | Loss D: 0.7083 | Loss G: 0.6938\n",
            "Epoch 33 | Loss D: 0.7080 | Loss G: 0.6926\n",
            "Epoch 34 | Loss D: 0.7078 | Loss G: 0.6915\n",
            "Epoch 35 | Loss D: 0.7081 | Loss G: 0.6904\n",
            "Epoch 36 | Loss D: 0.7078 | Loss G: 0.6892\n",
            "Epoch 37 | Loss D: 0.7076 | Loss G: 0.6881\n",
            "Epoch 38 | Loss D: 0.7073 | Loss G: 0.6871\n",
            "Epoch 39 | Loss D: 0.7071 | Loss G: 0.6860\n",
            "Epoch 40 | Loss D: 0.7069 | Loss G: 0.6849\n",
            "Epoch 41 | Loss D: 0.7067 | Loss G: 0.6839\n",
            "Epoch 42 | Loss D: 0.7066 | Loss G: 0.6829\n",
            "Epoch 43 | Loss D: 0.7065 | Loss G: 0.6819\n",
            "Epoch 44 | Loss D: 0.7064 | Loss G: 0.6809\n",
            "Epoch 45 | Loss D: 0.7062 | Loss G: 0.6800\n",
            "Epoch 46 | Loss D: 0.7060 | Loss G: 0.6790\n",
            "Epoch 47 | Loss D: 0.7059 | Loss G: 0.6781\n",
            "Epoch 48 | Loss D: 0.7057 | Loss G: 0.6771\n",
            "Epoch 49 | Loss D: 0.7056 | Loss G: 0.6762\n",
            "Epoch 50 | Loss D: 0.7055 | Loss G: 0.6753\n",
            "Epoch 51 | Loss D: 0.7053 | Loss G: 0.6744\n",
            "Epoch 52 | Loss D: 0.7052 | Loss G: 0.6735\n",
            "Epoch 53 | Loss D: 0.7051 | Loss G: 0.6726\n",
            "Epoch 54 | Loss D: 0.7050 | Loss G: 0.6718\n",
            "Epoch 55 | Loss D: 0.7049 | Loss G: 0.6709\n",
            "Epoch 56 | Loss D: 0.7047 | Loss G: 0.6701\n",
            "Epoch 57 | Loss D: 0.7046 | Loss G: 0.6692\n",
            "Epoch 58 | Loss D: 0.7045 | Loss G: 0.6684\n",
            "Epoch 59 | Loss D: 0.7045 | Loss G: 0.6676\n",
            "Epoch 60 | Loss D: 0.7044 | Loss G: 0.6667\n",
            "Epoch 61 | Loss D: 0.7043 | Loss G: 0.6659\n",
            "Epoch 62 | Loss D: 0.7042 | Loss G: 0.6651\n",
            "Epoch 63 | Loss D: 0.7041 | Loss G: 0.6643\n",
            "Epoch 64 | Loss D: 0.7041 | Loss G: 0.6635\n",
            "Epoch 65 | Loss D: 0.7040 | Loss G: 0.6627\n",
            "Epoch 66 | Loss D: 0.7040 | Loss G: 0.6619\n",
            "Epoch 67 | Loss D: 0.7039 | Loss G: 0.6612\n",
            "Epoch 68 | Loss D: 0.7038 | Loss G: 0.6604\n",
            "Epoch 69 | Loss D: 0.7038 | Loss G: 0.6596\n",
            "Epoch 70 | Loss D: 0.7037 | Loss G: 0.6588\n",
            "Epoch 71 | Loss D: 0.7037 | Loss G: 0.6581\n",
            "Epoch 72 | Loss D: 0.7036 | Loss G: 0.6573\n",
            "Epoch 73 | Loss D: 0.7036 | Loss G: 0.6566\n",
            "Epoch 74 | Loss D: 0.7035 | Loss G: 0.6558\n",
            "Epoch 75 | Loss D: 0.7035 | Loss G: 0.6551\n",
            "Epoch 76 | Loss D: 0.7035 | Loss G: 0.6543\n",
            "Epoch 77 | Loss D: 0.7034 | Loss G: 0.6536\n",
            "Epoch 78 | Loss D: 0.7034 | Loss G: 0.6529\n",
            "Epoch 79 | Loss D: 0.7034 | Loss G: 0.6521\n",
            "Epoch 80 | Loss D: 0.7034 | Loss G: 0.6514\n",
            "Epoch 81 | Loss D: 0.7034 | Loss G: 0.6507\n",
            "Epoch 82 | Loss D: 0.7034 | Loss G: 0.6500\n",
            "Epoch 83 | Loss D: 0.7033 | Loss G: 0.6493\n",
            "Epoch 84 | Loss D: 0.7033 | Loss G: 0.6485\n",
            "Epoch 85 | Loss D: 0.7033 | Loss G: 0.6478\n",
            "Epoch 86 | Loss D: 0.7033 | Loss G: 0.6471\n",
            "Epoch 87 | Loss D: 0.7033 | Loss G: 0.6464\n",
            "Epoch 88 | Loss D: 0.7033 | Loss G: 0.6457\n",
            "Epoch 89 | Loss D: 0.7032 | Loss G: 0.6450\n",
            "Epoch 90 | Loss D: 0.7032 | Loss G: 0.6443\n",
            "Epoch 91 | Loss D: 0.7032 | Loss G: 0.6437\n",
            "Epoch 92 | Loss D: 0.7032 | Loss G: 0.6430\n",
            "Epoch 93 | Loss D: 0.7032 | Loss G: 0.6423\n",
            "Epoch 94 | Loss D: 0.7032 | Loss G: 0.6416\n",
            "Epoch 95 | Loss D: 0.7032 | Loss G: 0.6409\n",
            "Epoch 96 | Loss D: 0.7032 | Loss G: 0.6403\n",
            "Epoch 97 | Loss D: 0.7032 | Loss G: 0.6396\n",
            "Epoch 98 | Loss D: 0.7032 | Loss G: 0.6389\n",
            "Epoch 99 | Loss D: 0.7032 | Loss G: 0.6382\n"
          ]
        }
      ],
      "source": [
        "d_losses = []\n",
        "g_losses = []\n",
        "\n",
        "for epoch in range(epochs):\n",
        "  idx = np.random.randint(0, X_train.shape[0], batch_s)\n",
        "  real_samples = tf.gather(X_train, idx)\n",
        "\n",
        "  z = tf.random.normal(shape =(batch_s, latent_dim))\n",
        "  fake_samples = generator(z)\n",
        "\n",
        "  real_labs = tf.ones((batch_s, 1))\n",
        "  fake_labs = tf.zeros((batch_s, 1))\n",
        "\n",
        "  d_loss_real = discrimanator.train_on_batch(real_samples, real_labs)\n",
        "  d_loss_fake = discrimanator.train_on_batch(fake_samples, fake_labs)\n",
        "  d_loss = 0.5 * (d_loss_real[0] + d_loss_fake[0])\n",
        "\n",
        "  z = tf.random.normal(shape=(batch_s, latent_dim))\n",
        "  g_loss = gan2.train_on_batch(z, real_labs)\n",
        "\n",
        "  if epoch % 1 == 0:\n",
        "    print(f\"Epoch {epoch} | Loss D: {d_loss:.4f} | Loss G: {g_loss:.4f}\")\n",
        "\n",
        "  d_losses.append(d_loss)\n",
        "  g_losses.append(g_loss)"
      ]
    },
    {
      "cell_type": "code",
      "execution_count": null,
      "metadata": {
        "colab": {
          "base_uri": "https://localhost:8080/",
          "height": 487
        },
        "id": "Ai_6eheGAp5i",
        "outputId": "dce42483-5e8e-49b5-c5bf-f4b44930fa9f"
      },
      "outputs": [
        {
          "data": {
            "image/png": "[encoded data removed]",
            "text/plain": [
              "<Figure size 1000x500 with 1 Axes>"
            ]
          },
          "metadata": {},
          "output_type": "display_data"
        }
      ],
      "source": [
        "plt.figure(figsize=(10, 5))\n",
        "plt.plot(d_losses, label=\"Discriminator Loss\", color='red')\n",
        "plt.plot(g_losses, label=\"Generator Loss\", color='blue')\n",
        "plt.xlabel(\"Epochs\")\n",
        "plt.ylabel(\"Loss\")\n",
        "plt.title(\"GAN Training Loss\")\n",
        "plt.legend()\n",
        "plt.show()"
      ]
    }
  ],
  "metadata": {
    "colab": {
      "provenance": []
    },
    "kernelspec": {
      "display_name": "Python 3",
      "name": "python3"
    },
    "language_info": {
      "codemirror_mode": {
        "name": "ipython",
        "version": 3
      },
      "file_extension": ".py",
      "mimetype": "text/x-python",
      "name": "python",
      "nbconvert_exporter": "python",
      "pygments_lexer": "ipython3",
      "version": "3.13.1"
    }
  },
  "nbformat": 4,
  "nbformat_minor": 0
}
