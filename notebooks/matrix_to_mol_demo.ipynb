{
  "nbformat": 4,
  "nbformat_minor": 0,
  "metadata": {
    "colab": {
      "provenance": []
    },
    "kernelspec": {
      "name": "python3",
      "display_name": "Python 3"
    },
    "language_info": {
      "name": "python"
    }
  },
  "cells": [
    {
      "cell_type": "code",
      "source": [
        "!pip install -q rdkit"
      ],
      "metadata": {
        "colab": {
          "base_uri": "https://localhost:8080/"
        },
        "id": "DhAoc0E9AT9Z",
        "outputId": "45c9e227-9190-4c39-d9bb-8e9a663c7f85"
      },
      "execution_count": null,
      "outputs": [
        {
          "output_type": "stream",
          "name": "stdout",
          "text": [
            "\u001b[2K   \u001b[90m━━━━━━━━━━━━━━━━━━━━━━━━━━━━━━━━━━━━━━━━\u001b[0m \u001b[32m34.3/34.3 MB\u001b[0m \u001b[31m21.4 MB/s\u001b[0m eta \u001b[36m0:00:00\u001b[0m\n",
            "\u001b[?25h"
          ]
        }
      ]
    },
    {
      "cell_type": "code",
      "source": [
        "import tensorflow as tf\n",
        "from keras import models, layers\n",
        "import numpy as np\n",
        "from rdkit import Chem\n",
        "from rdkit.Chem import Draw"
      ],
      "metadata": {
        "id": "t4lfUuSnAX21"
      },
      "execution_count": 22,
      "outputs": []
    },
    {
      "cell_type": "code",
      "source": [
        "class GraphGenerator_test(tf.keras.Model):\n",
        "  def __init__(self, num_nodes, node_features, latent_dim, num_bond_types = 5):\n",
        "     super().__init__()\n",
        "\n",
        "     self.num_nodes = num_nodes\n",
        "     self.num_bond_types = num_bond_types\n",
        "     self.node_features = node_features\n",
        "     self.latent_dim = latent_dim\n",
        "\n",
        "     self.base = models.Sequential([\n",
        "        layers.Dense(128, input_shape = (latent_dim,), activation=\"leaky_relu\"),\n",
        "        layers.Dense(256, activation = \"leaky_relu\"),\n",
        "     ])\n",
        "\n",
        "     self.adj_head = layers.Dense(num_nodes * num_nodes * num_bond_types, activation = None)\n",
        "     self.node_head = layers.Dense(num_nodes * node_features, activation = None)\n",
        "\n",
        "     self.optimizer = tf.keras.optimizers.Adam(learning_rate = 0.001)\n",
        "\n",
        "  def call(self, z, t = 1.0):\n",
        "    batch_size = tf.shape(z)[0]\n",
        "\n",
        "    base_output = self.base(z)\n",
        "\n",
        "    adj_logits = self.adj_head(base_output)\n",
        "    adj_logits = tf.reshape(adj_logits, (batch_size, self.num_nodes, self.num_nodes, self.num_bond_types))\n",
        "    adj_logits_sym = (adj_logits + tf.transpose(adj_logits, perm = [0, 2, 1, 3])) / 2\n",
        "    adj_probs = tf.nn.softmax(adj_logits_sym / t, axis = -1)\n",
        "\n",
        "    bond_type_indices = tf.argmax(adj_probs, axis = -1)\n",
        "    adj_one_hot = tf.one_hot(bond_type_indices, depth = self.num_bond_types)\n",
        "\n",
        "    node_feature_flat = self.node_head(base_output)\n",
        "    node_feature_flat = tf.reshape(node_feature_flat, (batch_size, self.num_nodes, self.node_features))\n",
        "    node_probs = tf.nn.softmax(node_feature_flat, axis = -1)\n",
        "    node_indices = tf.argmax(node_probs, axis = -1)\n",
        "    valid_atom_types = tf.constant([1, 6, 7, 8, 9], dtype = tf.int64)\n",
        "    node_types = tf.gather(valid_atom_types, node_indices)\n",
        "    node_types = tf.cast(node_types, tf.float32)\n",
        "\n",
        "    return adj_one_hot, node_types\n",
        "\n",
        "  def loss_function(self, real_output, fake_output):\n",
        "    loss_func = tf.keras.losses.BinaryCrossentropy(from_logits = False)\n",
        "    return loss_func(real_output, fake_output)\n",
        "\n",
        "  def fit(self, data, discriminator, epochs = 10):\n",
        "    for epoch in range(epochs):\n",
        "      total_loss = 0\n",
        "      num_batches = 0\n",
        "      for z in data:\n",
        "        with tf.GradientTape() as tape:\n",
        "          gen_adj, gen_z = self(z)\n",
        "\n",
        "          fake_output = discriminator(gen_adj, gen_z)\n",
        "          loss = self.loss_function(tf.ones_like(fake_output), fake_output)\n",
        "\n",
        "        gradients = tape.gradient(loss, self.trainable_variables)\n",
        "        self.optimizer.apply_gradients(zip(gradients, self.trainable_variables))\n",
        "\n",
        "        total_loss += loss\n",
        "        num_batches += 1\n",
        "      average_loss = total_loss / num_batches\n",
        "      print(f\"Epoch {epoch+1}/{epochs}, Loss: {average_loss.numpy():.4f}\")"
      ],
      "metadata": {
        "id": "T1cWuR6PCFHs"
      },
      "execution_count": 23,
      "outputs": []
    },
    {
      "cell_type": "code",
      "execution_count": 24,
      "metadata": {
        "id": "dmcN0-SiAN2P"
      },
      "outputs": [],
      "source": [
        "def adjacency_matrix_to_mol(inp_matrix):\n",
        "  mol = Chem.RWMol()\n",
        "  atom_types = np.unique(inp_matrix[1])\n",
        "  matrix = inp_matrix[0]\n",
        "  atom_map = {i: mol.AddAtom(Chem.Atom(int(atom_types[i]))) for i in range(len(atom_types))}\n",
        "\n",
        "  if isinstance(matrix, tf.Tensor):\n",
        "        matrix = matrix.numpy()\n",
        "  if isinstance(atom_types, tf.Tensor):\n",
        "      atom_types = atom_types.numpy()\n",
        "\n",
        "  matrix = np.array(matrix)\n",
        "  atom_types = np.array(atom_types)\n",
        "\n",
        "  if len(matrix) != len(atom_types):\n",
        "    raise ValueError(\"NUMBER OF ATOM TYPES DOES NOT MATCH MATRIX DIMENSIONS\")\n",
        "\n",
        "  # Step 1: Add Atoms\n",
        "  for i, atom_num in enumerate(atom_types):\n",
        "    atom = Chem.Atom(int(atom_num))\n",
        "    mol_idx = mol.AddAtom(atom)\n",
        "    atom_map[i] = mol_idx\n",
        "\n",
        "  # Step 2: Add Bonds\n",
        "  for i in range(len(matrix)):\n",
        "    for j in range(i + 1, len(matrix)):\n",
        "        if j not in atom_map:\n",
        "            continue\n",
        "\n",
        "        value = int(np.argmax(matrix[i, j]))\n",
        "        value = min(max(value, 0), 4)\n",
        "\n",
        "        if value != 0:\n",
        "            bond_type = {\n",
        "                1: Chem.BondType.SINGLE,\n",
        "                2: Chem.BondType.DOUBLE,\n",
        "                3: Chem.BondType.TRIPLE,\n",
        "                4: Chem.BondType.AROMATIC\n",
        "            }.get(value, None)\n",
        "\n",
        "            if bond_type is None:\n",
        "                raise ValueError(f\"INVALID BOND TYPE DETECTED: {value}\")\n",
        "\n",
        "            print(f\"Adding bond: {i}-{j} Type: {bond_type}\")\n",
        "            mol.AddBond(atom_map[i], atom_map[j], bond_type)\n",
        "\n",
        "  return mol"
      ]
    },
    {
      "cell_type": "code",
      "source": [
        "gen = GraphGenerator_test(10,5,32)\n",
        "z = tf.random.normal((5, 32))\n",
        "gen_out = gen(z)"
      ],
      "metadata": {
        "id": "hsFxXEtOC6Qy"
      },
      "execution_count": 40,
      "outputs": []
    },
    {
      "cell_type": "code",
      "source": [
        "mol = adjacency_matrix_to_mol(gen_out)"
      ],
      "metadata": {
        "colab": {
          "base_uri": "https://localhost:8080/"
        },
        "id": "lS9Dgwm4Eo5I",
        "outputId": "519c52f0-5edb-4647-a613-a5b45436bf51"
      },
      "execution_count": 41,
      "outputs": [
        {
          "output_type": "stream",
          "name": "stdout",
          "text": [
            "Adding bond: 0-2 Type: TRIPLE\n",
            "Adding bond: 0-3 Type: AROMATIC\n",
            "Adding bond: 0-4 Type: SINGLE\n",
            "Adding bond: 1-2 Type: DOUBLE\n",
            "Adding bond: 1-4 Type: SINGLE\n",
            "Adding bond: 2-4 Type: SINGLE\n",
            "Adding bond: 3-4 Type: SINGLE\n"
          ]
        }
      ]
    },
    {
      "cell_type": "code",
      "source": [
        "smile = Chem.MolToSmiles(mol)"
      ],
      "metadata": {
        "id": "0LLfJIdcEuug"
      },
      "execution_count": 43,
      "outputs": []
    },
    {
      "cell_type": "code",
      "source": [
        "print(smile)"
      ],
      "metadata": {
        "colab": {
          "base_uri": "https://localhost:8080/"
        },
        "id": "jyes77mQGuea",
        "outputId": "6d7aedfe-65b0-4b74-97ee-f06c11cea8f0"
      },
      "execution_count": 44,
      "outputs": [
        {
          "output_type": "stream",
          "name": "stdout",
          "text": [
            "C.C1=N2#[H]3oF132.F.N.O.[HH]\n"
          ]
        }
      ]
    },
    {
      "cell_type": "code",
      "source": [
        "Draw.MolToImage(mol)"
      ],
      "metadata": {
        "id": "o0yJBRS0E8DW",
        "colab": {
          "base_uri": "https://localhost:8080/",
          "height": 317
        },
        "outputId": "f6e12020-2238-4eb7-f5b1-6248c4624e9e"
      },
      "execution_count": 42,
      "outputs": [
        {
          "output_type": "execute_result",
          "data": {
            "text/plain": [
              "<PIL.PngImagePlugin.PngImageFile image mode=RGB size=300x300>"
            ],
            "image/png": "[encoded data removed]",
            "image/jpeg": "[encoded data removed]"
          },
          "metadata": {},
          "execution_count": 42
        }
      ]
    }
  ]
}