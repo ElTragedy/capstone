{
  "nbformat": 4,
  "nbformat_minor": 0,
  "metadata": {
    "colab": {
      "provenance": []
    },
    "kernelspec": {
      "name": "python3",
      "display_name": "Python 3"
    },
    "language_info": {
      "name": "python"
    }
  },
  "cells": [
    {
      "cell_type": "code",
      "execution_count": 1,
      "metadata": {
        "colab": {
          "base_uri": "https://localhost:8080/"
        },
        "id": "W0qG1c72xZ1_",
        "outputId": "e0f1ee13-b0b5-4002-8089-197fe30b5ea8"
      },
      "outputs": [
        {
          "output_type": "stream",
          "name": "stdout",
          "text": [
            "\u001b[2K   \u001b[90m━━━━━━━━━━━━━━━━━━━━━━━━━━━━━━━━━━━━━━━━\u001b[0m \u001b[32m34.3/34.3 MB\u001b[0m \u001b[31m23.4 MB/s\u001b[0m eta \u001b[36m0:00:00\u001b[0m\n",
            "\u001b[?25h"
          ]
        }
      ],
      "source": [
        "!pip install -q rdkit"
      ]
    },
    {
      "cell_type": "markdown",
      "source": [
        "# Build Molecule from Matrix\n",
        "\n",
        "- Our GAN will be outputting adjacency matrices referencing molecules. We can use the matrix to create a molecule from the matrix.\n",
        "    - Iterate through the matrix adding our atoms and bonds"
      ],
      "metadata": {
        "id": "N4uB7k1t0iSm"
      }
    },
    {
      "cell_type": "code",
      "source": [
        "from rdkit import Chem\n",
        "\n",
        "def adjacency_matrix_to_mol(matrix, atom_type = 6):\n",
        "  mol = Chem.RWMol()\n",
        "  atom_map = {}\n",
        "\n",
        "  # Step 1: Add Atoms\n",
        "  for i in range(len(matrix)):\n",
        "    atom = Chem.Atom(atom_type)\n",
        "    mol_idx = mol.AddAtom(atom)\n",
        "    atom_map[i] = mol_idx\n",
        "\n",
        "  # Step 2: Add Bonds\n",
        "  for i, row in enumerate(matrix):\n",
        "    for j, value in enumerate(row):\n",
        "      if i < j and value != 0:\n",
        "        bond_type = Chem.BondType.SINGLE\n",
        "\n",
        "  return mol"
      ],
      "metadata": {
        "id": "sJqDrTEkxhlc"
      },
      "execution_count": null,
      "outputs": []
    },
    {
      "cell_type": "markdown",
      "source": [
        "- Code Explanation\n",
        "    - We default the atom_type value to 6, the atomic number for carbon\n",
        "    - Chem.RWMol is an editable molecule\n",
        "    - atom_map variable will map from matrix index to atom index\n",
        "    - Adding Atoms\n",
        "        - we create an atom of the correct atom type\n",
        "        - we index the atom added to the molecule and add it to the map\n",
        "    - Adding Bonds\n",
        "        - Iterate through the matrix and add necessary bonds\n",
        "- This is a very basic way to convert from matrix to molecule. Additional functionality will be added down the road to handle multiple bond types and multiple atom types."
      ],
      "metadata": {
        "id": "gXC5PgVD4JGX"
      }
    },
    {
      "cell_type": "markdown",
      "source": [
        "# Validity\n",
        "\n",
        "- “Validity is the fraction of correctness that a SMILES string translates to a real structure. Low validity is indicative of a poorly behaving model that has struggled to learn the SMILES grammar.” - https://pmc.ncbi.nlm.nih.gov/articles/PMC10664602/#Sec2\n",
        "- Since the model is being created from the matrix using RWMol (Read-Write Molecule), we have to manually check for validity."
      ],
      "metadata": {
        "id": "WvtbmxiV0mXH"
      }
    },
    {
      "cell_type": "code",
      "source": [
        "def validity(mols):\n",
        "  val_mols = {}\n",
        "\n",
        "  for i, mol in enumerate(mols):\n",
        "    if mol is None:\n",
        "      continue\n",
        "\n",
        "    valid = True\n",
        "\n",
        "    # Sanitize\n",
        "    try:\n",
        "      Chem.SanitizeMol(mol)\n",
        "    except Exception:\n",
        "      continue\n",
        "\n",
        "    # Check Kekulization\n",
        "    try:\n",
        "      Chem.Kekulize(mol, clearAromaticFlags = True)\n",
        "    except Exception:\n",
        "      continue\n",
        "\n",
        "    # Check Valency\n",
        "    for atom in mol.GetAtoms():\n",
        "      explicit_valence = atom.GetExplicitValence()\n",
        "      if explicit_valence > atom.GetTotalValence():\n",
        "        valid = False\n",
        "        break\n",
        "\n",
        "    if valid:\n",
        "      val_mols[i] = mol\n",
        "\n",
        "  valid_score = len(val_mols) / len(mols) if len(mols) > 0 else 0\n",
        "  return valid_score, val_mols"
      ],
      "metadata": {
        "id": "mU_YH-1f0red"
      },
      "execution_count": null,
      "outputs": []
    },
    {
      "cell_type": "markdown",
      "source": [
        "- Code Explanation\n",
        "    - To check manually for validity, we have to check sanitization, kekulization, and valency. To do so, we use a set of try, except clauses in the code for the sanitization and kekulization portions. If SanitizeMol or Kekulize doesn’t work, we continue to next iteration and know the molecule is invalid.\n",
        "    - For valency, we have to compare explicit and total valency for each atom in the molecule. If any fail the test, the molecule is invalid.\n",
        "    - If the molecule is valid, we add it to the list. Once we are done iterating through our molecules, we find the validity score, ensuring to avoid division by 0."
      ],
      "metadata": {
        "id": "exYOH2pg4VBH"
      }
    },
    {
      "cell_type": "markdown",
      "source": [
        "# Uniqueness\n",
        "\n",
        "- “Uniqueness is the fraction of unique molecules, where non-unique molecules are defined as having canonical SMILES that match those previously sampled or in the same batch. Low uniqueness is indicative of a poorly behaving model that is ‘stuck’ in a particular region of chemical space.” - https://pmc.ncbi.nlm.nih.gov/articles/PMC10664602/#Sec2\n",
        "- percentage of unique compounds among valid compounds"
      ],
      "metadata": {
        "id": "SRyrT6cu0oSt"
      }
    },
    {
      "cell_type": "code",
      "source": [
        "from rdkit.Chem import rdFingerprintGenerator\n",
        "\n",
        "def morg_fp(mol):\n",
        "  fp_gen = rdFingerprintGenerator.GetMorganGenerator(\n",
        "                                                    radius = 2,\n",
        "                                                    fpSize = 2048\n",
        "                                                    )\n",
        "  return fp_gen.GetFingerprint(mol)\n",
        "\n",
        "def uniqueness(val_mol_list):\n",
        "  fps = [morg_fp(mol) for mol in val_mol_list]\n",
        "  unique_fps = set(fps)\n",
        "  u = len(unique_fps) / len(val_mol_list) if len(val_mol_list) > 0 else 0\n",
        "  return u , unique_fps\n"
      ],
      "metadata": {
        "id": "x5u5wk5Z2FE9"
      },
      "execution_count": null,
      "outputs": []
    },
    {
      "cell_type": "markdown",
      "source": [
        "- Code Explanation:\n",
        "    - When checking for uniqueness, checking the Morgan Fingerprint is the most common way of doing so. Thus, we define a function to get the Morgan Fingerprint for a molecule. Then, we run each molecule for its fingerprint and use set() to extract all unique molecules from our list of valid molecules.\n",
        "    - Once we have that, we can easily calculate the uniqueness score."
      ],
      "metadata": {
        "id": "FrkrPPhZ4dZz"
      }
    },
    {
      "cell_type": "markdown",
      "source": [
        "# Novelty\n",
        "\n",
        "- “Novelty is the ratio of valid, unique canonical SMILES not present in the training dataset, and low novelty indicates the model cannot generalize beyond the training data” - https://pmc.ncbi.nlm.nih.gov/articles/PMC10664602/#Sec2"
      ],
      "metadata": {
        "id": "3NCXtyv50qHA"
      }
    },
    {
      "cell_type": "code",
      "source": [
        "def novelty(train_mols_list, unique_mols_list):\n",
        "  unknown = {}\n",
        "  train_smiles = {Chem.MolToSmiles(mol, isomericSmiles = True) for mol in train_mols_list if mol}\n",
        "\n",
        "  for i, mol in enumerate(unique_mols_list):\n",
        "    if mol is None:\n",
        "      continue\n",
        "\n",
        "    mol_smiles = Chem.MolToSmiles(mol, isomericSmiles = True)\n",
        "\n",
        "    if mol_smiles in train_smiles:\n",
        "      continue\n",
        "    else:\n",
        "      unknown[i] = mol\n",
        "\n",
        "    if unique_mols_list:\n",
        "      n_score = len(unknown) / len(unique_mols_list)\n",
        "      return n_score, unknown\n",
        "    else:\n",
        "      return None, None"
      ],
      "metadata": {
        "id": "QQfbO_723HbT"
      },
      "execution_count": null,
      "outputs": []
    },
    {
      "cell_type": "markdown",
      "source": [
        "- Code Explanation\n",
        "    - For novelty, we must first convert the train molecules to smiles for direct comparison. We then enter the for loop where we convert each unique molecule into smiles iteratively. If it is not in the training, it is unknown and added to the list. We then calculate the novelty score and return."
      ],
      "metadata": {
        "id": "-IZHaDDF4nGZ"
      }
    }
  ]
}